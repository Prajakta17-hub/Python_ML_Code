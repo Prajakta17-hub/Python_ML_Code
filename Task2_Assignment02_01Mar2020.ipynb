{
 "cells": [
  {
   "cell_type": "code",
   "execution_count": 24,
   "metadata": {},
   "outputs": [
    {
     "name": "stdout",
     "output_type": "stream",
     "text": [
      "Enter the number of sequence you want to generate:3\n",
      "0,1,2\n"
     ]
    }
   ],
   "source": [
    "list1=[]\n",
    "N = input(\"Enter the number of sequence you want to generate:\")\n",
    "for x in range(int(N)):\n",
    "    list1.append(str(x))\n",
    "print(\",\".join(list1))"
   ]
  },
  {
   "cell_type": "markdown",
   "metadata": {},
   "source": []
  },
  {
   "cell_type": "code",
   "execution_count": 26,
   "metadata": {},
   "outputs": [
    {
     "name": "stdout",
     "output_type": "stream",
     "text": [
      "Program to print star pattern \n",
      "\n",
      "Enter the number of max rows in single line5\n",
      "* \n",
      "* * \n",
      "* * * \n",
      "* * * * \n",
      "* * * * * \n",
      "* * * * \n",
      "* * * \n",
      "* * \n",
      "* \n",
      "\n"
     ]
    }
   ],
   "source": [
    "print(\"Program to print star pattern \\n\")\n",
    "\n",
    "rows = input('Enter the number of max rows in single line')\n",
    "rows = int(rows)\n",
    "for i in range(0, rows):\n",
    "    for j in range(0,i+1):\n",
    "        print(\"*\", end=' ')\n",
    "    print('\\r')    \n",
    "    \n",
    "for i in range (rows, 0, -1):\n",
    "    for j in range(0, i -1):\n",
    "        print(\"*\", end=' ')\n",
    "    print(\"\\r\")"
   ]
  },
  {
   "cell_type": "code",
   "execution_count": 6,
   "metadata": {},
   "outputs": [
    {
     "name": "stdout",
     "output_type": "stream",
     "text": [
      "Enter the String which you want to reverse: Prajakta\n",
      "atkajarP\n"
     ]
    }
   ],
   "source": [
    "str = input('Enter the String which you want to reverse: ')[::-1]\n",
    "print(str)\n"
   ]
  },
  {
   "cell_type": "code",
   "execution_count": 26,
   "metadata": {},
   "outputs": [
    {
     "name": "stdout",
     "output_type": "stream",
     "text": [
      "WE, THE PEOPLE OF INDIA,\t\t\t\t\t\t\t\t\t\n",
      "\t having solemnly resolved to constitute India into a SOVEREIGN,! \n",
      "\t\t SOCIALIST, SECULAR, DEMOCRATIC REPUBLIC \n",
      "\t\t and to secure to all its citizens \n"
     ]
    }
   ],
   "source": [
    "print('WE, THE PEOPLE OF INDIA,\\t\\t\\t\\t\\t\\t\\t\\t\\t\\n\\t having solemnly resolved to constitute India into a SOVEREIGN,! \\n\\t\\t SOCIALIST, SECULAR, DEMOCRATIC REPUBLIC \\n\\t\\t and to secure to all its citizens ')"
   ]
  },
  {
   "cell_type": "code",
   "execution_count": null,
   "metadata": {},
   "outputs": [],
   "source": []
  }
 ],
 "metadata": {
  "kernelspec": {
   "display_name": "Python 3",
   "language": "python",
   "name": "python3"
  },
  "language_info": {
   "codemirror_mode": {
    "name": "ipython",
    "version": 3
   },
   "file_extension": ".py",
   "mimetype": "text/x-python",
   "name": "python",
   "nbconvert_exporter": "python",
   "pygments_lexer": "ipython3",
   "version": "3.7.4"
  }
 },
 "nbformat": 4,
 "nbformat_minor": 2
}
