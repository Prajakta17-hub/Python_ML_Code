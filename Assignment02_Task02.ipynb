{
 "cells": [
  {
   "cell_type": "markdown",
   "metadata": {},
   "source": [
    "1.1  \n",
    " \n",
    "Write a Python Program(with class concepts) to find the area of the triangle using the below formula. \n",
    " \n",
    "area = (s*(s-a)*(s-b)*(s-c)) ** 0.5 \n",
    " \n",
    "Function to take the length of the sides of triangle from user should be defined in the parent class and function to calculate the area should be defined in subclass. "
   ]
  },
  {
   "cell_type": "code",
   "execution_count": 1,
   "metadata": {},
   "outputs": [
    {
     "name": "stdout",
     "output_type": "stream",
     "text": [
      "Please give length of sides of triangles2\n",
      "Please give length of sides of triangles3\n",
      "Please give length of sides of triangles4\n",
      "2.9047375096555625\n"
     ]
    }
   ],
   "source": [
    "class Sides_Triangle:\n",
    "    def Sides_of_Triangle(self):\n",
    "        values = ['first','second','third']\n",
    "        sides = []\n",
    "        for index in values:\n",
    "            inputValue = input(\"Please give length of sides of triangles\")\n",
    "            sides.append((inputValue))\n",
    "        return sides\n",
    "       \n",
    "    \n",
    "    \n",
    "class Area_Triangle(Sides_Triangle):\n",
    "    def area_of_triangle(self,length_Of_Sides_of_Triangle):\n",
    "        a = int(length_Of_Sides_of_Triangle[0])\n",
    "        b = int(length_Of_Sides_of_Triangle[1])\n",
    "        c = int(length_Of_Sides_of_Triangle[2])\n",
    "        \n",
    "        s = (a+b+c)/2\n",
    "        area = (s*(s-a)*(s-b)*(s-c))**0.5\n",
    "        print(area)\n",
    "    \n",
    "\n",
    "aot = Area_Triangle()\n",
    "length_Of_Sides_of_Triangle = aot.Sides_of_Triangle()\n",
    "aot.area_of_triangle(length_Of_Sides_of_Triangle)"
   ]
  },
  {
   "cell_type": "markdown",
   "metadata": {},
   "source": [
    "1.2 \n",
    " \n",
    "Write a function filter_long_words() that takes a list of words \n",
    "and an integer n and returns the list of words that are longer than n. "
   ]
  },
  {
   "cell_type": "code",
   "execution_count": 6,
   "metadata": {},
   "outputs": [
    {
     "name": "stdout",
     "output_type": "stream",
     "text": [
      "['prajakta', 8]\n",
      "['jdniie', 6]\n",
      "('jdniie', 6)\n"
     ]
    }
   ],
   "source": [
    "def filter_long_words(long_word,n):\n",
    "    for i in long_word:\n",
    "        len_long_word = len(i)\n",
    "        if len_long_word >= n:\n",
    "            print([i,len_long_word])\n",
    "    return i,n\n",
    "\n",
    "str1 = ['prajakta','abcd','kodno','jdniie']\n",
    "print(filter_long_words(str1,6))\n",
    "        \n",
    "    \n",
    "    "
   ]
  },
  {
   "cell_type": "markdown",
   "metadata": {},
   "source": [
    "2.1 \n",
    " \n",
    "Write a Python program using function concept that maps  list of words into a list of integers representing the lengths of the corresponding words​. \n",
    " Hint: ​If a list [ ab,cde,erty] is passed on to the python function output should come as [2,3,4] \n",
    " Here 2,3 and 4 are the lengths of the words in the list. "
   ]
  },
  {
   "cell_type": "code",
   "execution_count": 7,
   "metadata": {},
   "outputs": [
    {
     "name": "stdout",
     "output_type": "stream",
     "text": [
      "[2, 4, 5, 10]\n"
     ]
    }
   ],
   "source": [
    "def lowords_into_loint(str1):\n",
    "    str_len = []\n",
    "    for i in str1:\n",
    "        word_len = len(i)\n",
    "        str_len.append(word_len)\n",
    "    return str_len\n",
    "\n",
    "str1 = ['dd','dffd','wefwf','efefefiib9']\n",
    "print(lowords_into_loint(str1))\n"
   ]
  },
  {
   "cell_type": "code",
   "execution_count": null,
   "metadata": {},
   "outputs": [],
   "source": [
    "2.2\n",
    " \n",
    "Write a Python function which takes a character (i.e. a string of length 1) and \n",
    "returns True if it is a vowel, False otherwise\n",
    " \n"
   ]
  },
  {
   "cell_type": "code",
   "execution_count": 14,
   "metadata": {},
   "outputs": [
    {
     "name": "stdout",
     "output_type": "stream",
     "text": [
      "P\n",
      "False\n"
     ]
    }
   ],
   "source": [
    "def vowels(char1):\n",
    "    for i in char1:\n",
    "        print (i)\n",
    "        if(i == 'a' or i == 'A' or i == 'e' or i == 'E' or \n",
    "           i == 'i' or i == 'I'or i =='o' or i == 'O' or i == 'u' or i == 'U'):\n",
    "            return True\n",
    "        else:\n",
    "            return False\n",
    "\n",
    "char1 = 'P'\n",
    "print(vowels(char1))"
   ]
  },
  {
   "cell_type": "code",
   "execution_count": null,
   "metadata": {},
   "outputs": [],
   "source": []
  }
 ],
 "metadata": {
  "kernelspec": {
   "display_name": "Python 3",
   "language": "python",
   "name": "python3"
  },
  "language_info": {
   "codemirror_mode": {
    "name": "ipython",
    "version": 3
   },
   "file_extension": ".py",
   "mimetype": "text/x-python",
   "name": "python",
   "nbconvert_exporter": "python",
   "pygments_lexer": "ipython3",
   "version": "3.7.4"
  }
 },
 "nbformat": 4,
 "nbformat_minor": 2
}
